{
  "nbformat": 4,
  "nbformat_minor": 0,
  "metadata": {
    "colab": {
      "provenance": [],
      "gpuType": "T4",
      "include_colab_link": true
    },
    "kernelspec": {
      "name": "python3",
      "display_name": "Python 3"
    },
    "language_info": {
      "name": "python"
    },
    "accelerator": "GPU"
  },
  "cells": [
    {
      "cell_type": "markdown",
      "metadata": {
        "id": "view-in-github",
        "colab_type": "text"
      },
      "source": [
        "<a href=\"https://colab.research.google.com/github/shreyamaurya029/AI-vs-Human-/blob/main/RNNwithfeaturesFinal.ipynb\" target=\"_parent\"><img src=\"https://colab.research.google.com/assets/colab-badge.svg\" alt=\"Open In Colab\"/></a>"
      ]
    },
    {
      "cell_type": "code",
      "source": [
        "from google.colab import drive\n",
        "drive.mount('/content/drive')"
      ],
      "metadata": {
        "id": "Dtz3xFKxf7O5",
        "colab": {
          "base_uri": "https://localhost:8080/"
        },
        "outputId": "0048ed27-8918-4caf-c04a-e22652dcc486"
      },
      "execution_count": null,
      "outputs": [
        {
          "output_type": "stream",
          "name": "stdout",
          "text": [
            "Mounted at /content/drive\n"
          ]
        }
      ]
    },
    {
      "cell_type": "code",
      "source": [
        "import numpy as np\n",
        "import pandas as pd\n",
        "from keras.preprocessing.text import Tokenizer\n",
        "from keras.preprocessing.sequence import pad_sequences\n",
        "from keras.layers import Embedding, LSTM, Dense, Input, Concatenate,Dropout\n",
        "from keras.models import Model\n",
        "from sklearn.model_selection import train_test_split\n",
        "from sklearn.preprocessing import LabelEncoder,StandardScaler"
      ],
      "metadata": {
        "id": "FAp0VVmtchlU"
      },
      "execution_count": null,
      "outputs": []
    },
    {
      "cell_type": "code",
      "source": [
        "df = pd.read_csv(\"/content/drive/MyDrive/Classroom/traindataset.csv\")"
      ],
      "metadata": {
        "id": "LthTkWMDgFfM"
      },
      "execution_count": null,
      "outputs": []
    },
    {
      "cell_type": "code",
      "source": [
        "df.head(2)"
      ],
      "metadata": {
        "colab": {
          "base_uri": "https://localhost:8080/",
          "height": 352
        },
        "id": "voBZHA6tBRG8",
        "outputId": "45eeec3d-518a-42e1-cb00-e1f7f77f069a"
      },
      "execution_count": null,
      "outputs": [
        {
          "output_type": "execute_result",
          "data": {
            "text/plain": [
              "                                                Text  Label  Vocab Size  \\\n",
              "0  ['Basically there are many categories of \" Bes...      0         134   \n",
              "1  ['salt is good for not dying in car crashes an...      0         216   \n",
              "\n",
              "   Avg Word Length   Density  active  passive  noun  pron  verb  ...  det  \\\n",
              "0         3.602230  0.498141      13        0    59    13    32  ...   25   \n",
              "1         4.014388  0.517986      17        5    93    18    67  ...   28   \n",
              "\n",
              "   propn  part  intj  punct  \\\n",
              "0     15     0     0     52   \n",
              "1      8     2     3     54   \n",
              "\n",
              "                                            text_str  Flesch Reading Ease  \\\n",
              "0  ['Basically there are many categories of \" Bes...            72.525622   \n",
              "1  ['salt is good for not dying in car crashes an...            67.493766   \n",
              "\n",
              "  Gunning Fog Index  Perplexity  Burstness  \n",
              "0         10.477182   89.357222   0.860252  \n",
              "1         10.975323  131.635424   1.227575  \n",
              "\n",
              "[2 rows x 22 columns]"
            ],
            "text/html": [
              "\n",
              "  <div id=\"df-62017f64-1c58-4ce6-9dd8-7d5e1a42539b\" class=\"colab-df-container\">\n",
              "    <div>\n",
              "<style scoped>\n",
              "    .dataframe tbody tr th:only-of-type {\n",
              "        vertical-align: middle;\n",
              "    }\n",
              "\n",
              "    .dataframe tbody tr th {\n",
              "        vertical-align: top;\n",
              "    }\n",
              "\n",
              "    .dataframe thead th {\n",
              "        text-align: right;\n",
              "    }\n",
              "</style>\n",
              "<table border=\"1\" class=\"dataframe\">\n",
              "  <thead>\n",
              "    <tr style=\"text-align: right;\">\n",
              "      <th></th>\n",
              "      <th>Text</th>\n",
              "      <th>Label</th>\n",
              "      <th>Vocab Size</th>\n",
              "      <th>Avg Word Length</th>\n",
              "      <th>Density</th>\n",
              "      <th>active</th>\n",
              "      <th>passive</th>\n",
              "      <th>noun</th>\n",
              "      <th>pron</th>\n",
              "      <th>verb</th>\n",
              "      <th>...</th>\n",
              "      <th>det</th>\n",
              "      <th>propn</th>\n",
              "      <th>part</th>\n",
              "      <th>intj</th>\n",
              "      <th>punct</th>\n",
              "      <th>text_str</th>\n",
              "      <th>Flesch Reading Ease</th>\n",
              "      <th>Gunning Fog Index</th>\n",
              "      <th>Perplexity</th>\n",
              "      <th>Burstness</th>\n",
              "    </tr>\n",
              "  </thead>\n",
              "  <tbody>\n",
              "    <tr>\n",
              "      <th>0</th>\n",
              "      <td>['Basically there are many categories of \" Bes...</td>\n",
              "      <td>0</td>\n",
              "      <td>134</td>\n",
              "      <td>3.602230</td>\n",
              "      <td>0.498141</td>\n",
              "      <td>13</td>\n",
              "      <td>0</td>\n",
              "      <td>59</td>\n",
              "      <td>13</td>\n",
              "      <td>32</td>\n",
              "      <td>...</td>\n",
              "      <td>25</td>\n",
              "      <td>15</td>\n",
              "      <td>0</td>\n",
              "      <td>0</td>\n",
              "      <td>52</td>\n",
              "      <td>['Basically there are many categories of \" Bes...</td>\n",
              "      <td>72.525622</td>\n",
              "      <td>10.477182</td>\n",
              "      <td>89.357222</td>\n",
              "      <td>0.860252</td>\n",
              "    </tr>\n",
              "    <tr>\n",
              "      <th>1</th>\n",
              "      <td>['salt is good for not dying in car crashes an...</td>\n",
              "      <td>0</td>\n",
              "      <td>216</td>\n",
              "      <td>4.014388</td>\n",
              "      <td>0.517986</td>\n",
              "      <td>17</td>\n",
              "      <td>5</td>\n",
              "      <td>93</td>\n",
              "      <td>18</td>\n",
              "      <td>67</td>\n",
              "      <td>...</td>\n",
              "      <td>28</td>\n",
              "      <td>8</td>\n",
              "      <td>2</td>\n",
              "      <td>3</td>\n",
              "      <td>54</td>\n",
              "      <td>['salt is good for not dying in car crashes an...</td>\n",
              "      <td>67.493766</td>\n",
              "      <td>10.975323</td>\n",
              "      <td>131.635424</td>\n",
              "      <td>1.227575</td>\n",
              "    </tr>\n",
              "  </tbody>\n",
              "</table>\n",
              "<p>2 rows × 22 columns</p>\n",
              "</div>\n",
              "    <div class=\"colab-df-buttons\">\n",
              "\n",
              "  <div class=\"colab-df-container\">\n",
              "    <button class=\"colab-df-convert\" onclick=\"convertToInteractive('df-62017f64-1c58-4ce6-9dd8-7d5e1a42539b')\"\n",
              "            title=\"Convert this dataframe to an interactive table.\"\n",
              "            style=\"display:none;\">\n",
              "\n",
              "  <svg xmlns=\"http://www.w3.org/2000/svg\" height=\"24px\" viewBox=\"0 -960 960 960\">\n",
              "    <path d=\"M120-120v-720h720v720H120Zm60-500h600v-160H180v160Zm220 220h160v-160H400v160Zm0 220h160v-160H400v160ZM180-400h160v-160H180v160Zm440 0h160v-160H620v160ZM180-180h160v-160H180v160Zm440 0h160v-160H620v160Z\"/>\n",
              "  </svg>\n",
              "    </button>\n",
              "\n",
              "  <style>\n",
              "    .colab-df-container {\n",
              "      display:flex;\n",
              "      gap: 12px;\n",
              "    }\n",
              "\n",
              "    .colab-df-convert {\n",
              "      background-color: #E8F0FE;\n",
              "      border: none;\n",
              "      border-radius: 50%;\n",
              "      cursor: pointer;\n",
              "      display: none;\n",
              "      fill: #1967D2;\n",
              "      height: 32px;\n",
              "      padding: 0 0 0 0;\n",
              "      width: 32px;\n",
              "    }\n",
              "\n",
              "    .colab-df-convert:hover {\n",
              "      background-color: #E2EBFA;\n",
              "      box-shadow: 0px 1px 2px rgba(60, 64, 67, 0.3), 0px 1px 3px 1px rgba(60, 64, 67, 0.15);\n",
              "      fill: #174EA6;\n",
              "    }\n",
              "\n",
              "    .colab-df-buttons div {\n",
              "      margin-bottom: 4px;\n",
              "    }\n",
              "\n",
              "    [theme=dark] .colab-df-convert {\n",
              "      background-color: #3B4455;\n",
              "      fill: #D2E3FC;\n",
              "    }\n",
              "\n",
              "    [theme=dark] .colab-df-convert:hover {\n",
              "      background-color: #434B5C;\n",
              "      box-shadow: 0px 1px 3px 1px rgba(0, 0, 0, 0.15);\n",
              "      filter: drop-shadow(0px 1px 2px rgba(0, 0, 0, 0.3));\n",
              "      fill: #FFFFFF;\n",
              "    }\n",
              "  </style>\n",
              "\n",
              "    <script>\n",
              "      const buttonEl =\n",
              "        document.querySelector('#df-62017f64-1c58-4ce6-9dd8-7d5e1a42539b button.colab-df-convert');\n",
              "      buttonEl.style.display =\n",
              "        google.colab.kernel.accessAllowed ? 'block' : 'none';\n",
              "\n",
              "      async function convertToInteractive(key) {\n",
              "        const element = document.querySelector('#df-62017f64-1c58-4ce6-9dd8-7d5e1a42539b');\n",
              "        const dataTable =\n",
              "          await google.colab.kernel.invokeFunction('convertToInteractive',\n",
              "                                                    [key], {});\n",
              "        if (!dataTable) return;\n",
              "\n",
              "        const docLinkHtml = 'Like what you see? Visit the ' +\n",
              "          '<a target=\"_blank\" href=https://colab.research.google.com/notebooks/data_table.ipynb>data table notebook</a>'\n",
              "          + ' to learn more about interactive tables.';\n",
              "        element.innerHTML = '';\n",
              "        dataTable['output_type'] = 'display_data';\n",
              "        await google.colab.output.renderOutput(dataTable, element);\n",
              "        const docLink = document.createElement('div');\n",
              "        docLink.innerHTML = docLinkHtml;\n",
              "        element.appendChild(docLink);\n",
              "      }\n",
              "    </script>\n",
              "  </div>\n",
              "\n",
              "\n",
              "<div id=\"df-a9764210-497a-49a0-b68a-ae8485e94fb3\">\n",
              "  <button class=\"colab-df-quickchart\" onclick=\"quickchart('df-a9764210-497a-49a0-b68a-ae8485e94fb3')\"\n",
              "            title=\"Suggest charts\"\n",
              "            style=\"display:none;\">\n",
              "\n",
              "<svg xmlns=\"http://www.w3.org/2000/svg\" height=\"24px\"viewBox=\"0 0 24 24\"\n",
              "     width=\"24px\">\n",
              "    <g>\n",
              "        <path d=\"M19 3H5c-1.1 0-2 .9-2 2v14c0 1.1.9 2 2 2h14c1.1 0 2-.9 2-2V5c0-1.1-.9-2-2-2zM9 17H7v-7h2v7zm4 0h-2V7h2v10zm4 0h-2v-4h2v4z\"/>\n",
              "    </g>\n",
              "</svg>\n",
              "  </button>\n",
              "\n",
              "<style>\n",
              "  .colab-df-quickchart {\n",
              "      --bg-color: #E8F0FE;\n",
              "      --fill-color: #1967D2;\n",
              "      --hover-bg-color: #E2EBFA;\n",
              "      --hover-fill-color: #174EA6;\n",
              "      --disabled-fill-color: #AAA;\n",
              "      --disabled-bg-color: #DDD;\n",
              "  }\n",
              "\n",
              "  [theme=dark] .colab-df-quickchart {\n",
              "      --bg-color: #3B4455;\n",
              "      --fill-color: #D2E3FC;\n",
              "      --hover-bg-color: #434B5C;\n",
              "      --hover-fill-color: #FFFFFF;\n",
              "      --disabled-bg-color: #3B4455;\n",
              "      --disabled-fill-color: #666;\n",
              "  }\n",
              "\n",
              "  .colab-df-quickchart {\n",
              "    background-color: var(--bg-color);\n",
              "    border: none;\n",
              "    border-radius: 50%;\n",
              "    cursor: pointer;\n",
              "    display: none;\n",
              "    fill: var(--fill-color);\n",
              "    height: 32px;\n",
              "    padding: 0;\n",
              "    width: 32px;\n",
              "  }\n",
              "\n",
              "  .colab-df-quickchart:hover {\n",
              "    background-color: var(--hover-bg-color);\n",
              "    box-shadow: 0 1px 2px rgba(60, 64, 67, 0.3), 0 1px 3px 1px rgba(60, 64, 67, 0.15);\n",
              "    fill: var(--button-hover-fill-color);\n",
              "  }\n",
              "\n",
              "  .colab-df-quickchart-complete:disabled,\n",
              "  .colab-df-quickchart-complete:disabled:hover {\n",
              "    background-color: var(--disabled-bg-color);\n",
              "    fill: var(--disabled-fill-color);\n",
              "    box-shadow: none;\n",
              "  }\n",
              "\n",
              "  .colab-df-spinner {\n",
              "    border: 2px solid var(--fill-color);\n",
              "    border-color: transparent;\n",
              "    border-bottom-color: var(--fill-color);\n",
              "    animation:\n",
              "      spin 1s steps(1) infinite;\n",
              "  }\n",
              "\n",
              "  @keyframes spin {\n",
              "    0% {\n",
              "      border-color: transparent;\n",
              "      border-bottom-color: var(--fill-color);\n",
              "      border-left-color: var(--fill-color);\n",
              "    }\n",
              "    20% {\n",
              "      border-color: transparent;\n",
              "      border-left-color: var(--fill-color);\n",
              "      border-top-color: var(--fill-color);\n",
              "    }\n",
              "    30% {\n",
              "      border-color: transparent;\n",
              "      border-left-color: var(--fill-color);\n",
              "      border-top-color: var(--fill-color);\n",
              "      border-right-color: var(--fill-color);\n",
              "    }\n",
              "    40% {\n",
              "      border-color: transparent;\n",
              "      border-right-color: var(--fill-color);\n",
              "      border-top-color: var(--fill-color);\n",
              "    }\n",
              "    60% {\n",
              "      border-color: transparent;\n",
              "      border-right-color: var(--fill-color);\n",
              "    }\n",
              "    80% {\n",
              "      border-color: transparent;\n",
              "      border-right-color: var(--fill-color);\n",
              "      border-bottom-color: var(--fill-color);\n",
              "    }\n",
              "    90% {\n",
              "      border-color: transparent;\n",
              "      border-bottom-color: var(--fill-color);\n",
              "    }\n",
              "  }\n",
              "</style>\n",
              "\n",
              "  <script>\n",
              "    async function quickchart(key) {\n",
              "      const quickchartButtonEl =\n",
              "        document.querySelector('#' + key + ' button');\n",
              "      quickchartButtonEl.disabled = true;  // To prevent multiple clicks.\n",
              "      quickchartButtonEl.classList.add('colab-df-spinner');\n",
              "      try {\n",
              "        const charts = await google.colab.kernel.invokeFunction(\n",
              "            'suggestCharts', [key], {});\n",
              "      } catch (error) {\n",
              "        console.error('Error during call to suggestCharts:', error);\n",
              "      }\n",
              "      quickchartButtonEl.classList.remove('colab-df-spinner');\n",
              "      quickchartButtonEl.classList.add('colab-df-quickchart-complete');\n",
              "    }\n",
              "    (() => {\n",
              "      let quickchartButtonEl =\n",
              "        document.querySelector('#df-a9764210-497a-49a0-b68a-ae8485e94fb3 button');\n",
              "      quickchartButtonEl.style.display =\n",
              "        google.colab.kernel.accessAllowed ? 'block' : 'none';\n",
              "    })();\n",
              "  </script>\n",
              "</div>\n",
              "\n",
              "    </div>\n",
              "  </div>\n"
            ],
            "application/vnd.google.colaboratory.intrinsic+json": {
              "type": "dataframe",
              "variable_name": "df"
            }
          },
          "metadata": {},
          "execution_count": 3
        }
      ]
    },
    {
      "cell_type": "code",
      "source": [
        "df = df.drop(columns=['text_str'])"
      ],
      "metadata": {
        "id": "4_OJ_hRwgWZ0"
      },
      "execution_count": null,
      "outputs": []
    },
    {
      "cell_type": "code",
      "source": [
        "label_encoder = LabelEncoder()\n",
        "df['Label'] = label_encoder.fit_transform(df['Label'])"
      ],
      "metadata": {
        "id": "PfTfY6mHgbKB"
      },
      "execution_count": null,
      "outputs": []
    },
    {
      "cell_type": "code",
      "source": [
        "df['Text'].fillna('', inplace=True)\n",
        "df['Text'] = df['Text'].astype(str)"
      ],
      "metadata": {
        "id": "onCEt3fqO-Um"
      },
      "execution_count": null,
      "outputs": []
    },
    {
      "cell_type": "code",
      "source": [
        "X_text = df['Text'].values\n",
        "Y = df['Label'].values"
      ],
      "metadata": {
        "id": "-IQa-jFtPNsa"
      },
      "execution_count": null,
      "outputs": []
    },
    {
      "cell_type": "code",
      "source": [
        "# Tokenize text\n",
        "maxlen = 100  # Adjust according to your text length\n",
        "max_words = 10000  # Adjust according to your vocabulary size\n",
        "\n",
        "tokenizer = Tokenizer(num_words=max_words)\n",
        "tokenizer.fit_on_texts(X_text)\n",
        "X_text = tokenizer.texts_to_sequences(X_text)\n",
        "\n",
        "word_index = tokenizer.word_index\n",
        "print('Found %s unique tokens.' % len(word_index))"
      ],
      "metadata": {
        "colab": {
          "base_uri": "https://localhost:8080/"
        },
        "id": "OYM0gafGgoMe",
        "outputId": "08a7a0be-070a-43f1-886d-1f1f9854ca5c"
      },
      "execution_count": null,
      "outputs": [
        {
          "output_type": "stream",
          "name": "stdout",
          "text": [
            "Found 92342 unique tokens.\n"
          ]
        }
      ]
    },
    {
      "cell_type": "code",
      "source": [
        "X_text = pad_sequences(X_text, maxlen=maxlen)"
      ],
      "metadata": {
        "id": "d0L0h2I2RCRV"
      },
      "execution_count": null,
      "outputs": []
    },
    {
      "cell_type": "code",
      "source": [
        "X_text"
      ],
      "metadata": {
        "colab": {
          "base_uri": "https://localhost:8080/"
        },
        "id": "IrC1tMVniEO2",
        "outputId": "dab1bbc2-829d-436b-f50a-af37fd5535b6"
      },
      "execution_count": null,
      "outputs": [
        {
          "output_type": "execute_result",
          "data": {
            "text/plain": [
              "array([[1357, 9784,  355, ...,   64,  755,   82],\n",
              "       [  64,    2,   63, ...,    1,  145,  233],\n",
              "       [ 592, 2076,   26, ...,    1, 3794,   26],\n",
              "       ...,\n",
              "       [   0,    0,    0, ...,   19,   55,   26],\n",
              "       [ 325,  136,  123, ..., 2069, 1004,   26],\n",
              "       [ 712,   27,   14, ...,    5,  165,  830]], dtype=int32)"
            ]
          },
          "metadata": {},
          "execution_count": 10
        }
      ]
    },
    {
      "cell_type": "code",
      "source": [
        "# Preprocess numerical data\n",
        "numerical_data = df[['Vocab Size', 'Avg Word Length', 'Density', 'active',\n",
        "                     'passive', 'noun', 'pron', 'verb', 'adj', 'adv', 'det', 'propn', 'part',\n",
        "                     'intj', 'punct', 'Flesch Reading Ease', 'Gunning Fog Index',\n",
        "                     'Perplexity', 'Burstness']].values\n",
        "\n",
        "scaler = StandardScaler()\n",
        "numerical_data = scaler.fit_transform(numerical_data)"
      ],
      "metadata": {
        "id": "iaJvtW75Vkxt"
      },
      "execution_count": null,
      "outputs": []
    },
    {
      "cell_type": "code",
      "source": [
        "# Concatenate text and numerical data\n",
        "X_text = np.asarray(X_text)\n",
        "numerical_data = np.asarray(numerical_data)\n",
        "Y = np.asarray(Y)\n",
        "X = np.concatenate((X_text, numerical_data), axis=1)"
      ],
      "metadata": {
        "id": "fYwuY3KMVyEi"
      },
      "execution_count": null,
      "outputs": []
    },
    {
      "cell_type": "code",
      "source": [
        "X_train, X_val, Y_train, Y_val = train_test_split(X, Y, test_size=0.2, random_state=42)"
      ],
      "metadata": {
        "id": "4lYfUuwvWYXa"
      },
      "execution_count": null,
      "outputs": []
    },
    {
      "cell_type": "code",
      "source": [
        "X_text_train = X_train[:, :maxlen]\n",
        "num_data_train = X_train[:, maxlen:]\n",
        "X_text_val = X_val[:, :maxlen]\n",
        "num_data_val = X_val[:, maxlen:]"
      ],
      "metadata": {
        "id": "jlXsFQmjWf8p"
      },
      "execution_count": null,
      "outputs": []
    },
    {
      "cell_type": "code",
      "source": [
        "!pip install keras\n",
        "from keras.utils import to_categorical\n",
        "Y_train = to_categorical(Y_train, num_classes=2)\n",
        "Y_val = to_categorical(Y_val, num_classes=2)"
      ],
      "metadata": {
        "id": "uD-NLTK4Wjrv",
        "colab": {
          "base_uri": "https://localhost:8080/"
        },
        "outputId": "4ff4a090-5d87-4270-ac6a-96bbc66d4784"
      },
      "execution_count": null,
      "outputs": [
        {
          "output_type": "stream",
          "name": "stdout",
          "text": [
            "Requirement already satisfied: keras in /usr/local/lib/python3.10/dist-packages (2.15.0)\n"
          ]
        }
      ]
    },
    {
      "cell_type": "code",
      "source": [
        "from numpy import array\n",
        "from numpy import asarray\n",
        "from numpy import zeros\n",
        "# Load GloVe word embeddings\n",
        "embeddings_dictionary = {}\n",
        "embedding_dim = 100  # Adjust according to the dimensions of your GloVe embeddings file\n",
        "\n",
        "glove_file = open(\"/content/drive/MyDrive/Colab Notebooks/glove.6B.300d.txt\")  # Update the path\n",
        "for line in glove_file:\n",
        "    records = line.split()\n",
        "    word = records[0]\n",
        "    vector_dimensions = asarray(records[1:], dtype='float32')\n",
        "    embeddings_dictionary[word] = vector_dimensions\n",
        "glove_file.close()\n",
        "\n",
        "vocab_size = len(tokenizer.word_index) + 1  ## total distinct words is the Vocabulary ##\n",
        "word_index = tokenizer.word_index\n",
        "num_words = min(max_words,len(word_index)+1)\n",
        "embed_size = 300\n",
        "embedding_matrix = zeros((num_words, embed_size)) ## has to be similar to glove dimension ##\n",
        "for word, index in tokenizer.word_index.items():\n",
        "    if index >= max_words:\n",
        "        continue\n",
        "    embedding_vector = embeddings_dictionary.get(word)\n",
        "    if embedding_vector is not None:\n",
        "        embedding_matrix[index] = embedding_vector"
      ],
      "metadata": {
        "id": "tP2mRW-zlDEe"
      },
      "execution_count": null,
      "outputs": []
    },
    {
      "cell_type": "code",
      "source": [
        "embedding_matrix"
      ],
      "metadata": {
        "colab": {
          "base_uri": "https://localhost:8080/"
        },
        "id": "34k9YpsH3TyV",
        "outputId": "2690211f-e49f-420e-8888-a3ff27c4f823"
      },
      "execution_count": null,
      "outputs": [
        {
          "output_type": "execute_result",
          "data": {
            "text/plain": [
              "array([[ 0.        ,  0.        ,  0.        , ...,  0.        ,\n",
              "         0.        ,  0.        ],\n",
              "       [ 0.04656   ,  0.21318001, -0.0074364 , ...,  0.0090611 ,\n",
              "        -0.20988999,  0.053913  ],\n",
              "       [-0.25756001, -0.057132  , -0.67189997, ..., -0.16043   ,\n",
              "         0.046744  , -0.070621  ],\n",
              "       ...,\n",
              "       [ 0.020308  ,  0.042822  ,  0.23929   , ...,  0.093141  ,\n",
              "         0.53148001, -0.039001  ],\n",
              "       [-0.09712   , -0.38159001, -0.12734   , ..., -0.1268    ,\n",
              "        -0.69660002,  0.39971   ],\n",
              "       [-0.81866002,  0.58528   ,  0.014554  , ..., -0.20909999,\n",
              "         0.087379  , -0.63577002]])"
            ]
          },
          "metadata": {},
          "execution_count": 17
        }
      ]
    },
    {
      "cell_type": "code",
      "source": [
        "input_text = Input(shape=(maxlen,), dtype='int32')\n",
        "embedding_layer = Embedding(num_words, embed_size, weights=[embedding_matrix], trainable=False)(input_text)\n",
        "lstm_layer = LSTM(128)(embedding_layer)\n",
        "\n",
        "input_numerical = Input(shape=(numerical_data.shape[1],))\n",
        "merged = Concatenate()([lstm_layer, input_numerical])\n",
        "dense_layer = Dense(64, activation='relu')(merged)\n",
        "dense_layer = Dropout(0.5)(dense_layer)\n",
        "output = Dense(2, activation='softmax')(dense_layer)\n",
        "\n",
        "model = Model(inputs=[input_text, input_numerical], outputs=output)\n",
        "model.compile(optimizer='rmsprop', loss='categorical_crossentropy', metrics=['accuracy'])\n",
        "\n",
        "model.summary()\n"
      ],
      "metadata": {
        "colab": {
          "base_uri": "https://localhost:8080/"
        },
        "id": "jqScy6_7Ws_l",
        "outputId": "e0e1d049-e9f9-417e-ffa6-5d80164b55aa"
      },
      "execution_count": null,
      "outputs": [
        {
          "output_type": "stream",
          "name": "stdout",
          "text": [
            "Model: \"model\"\n",
            "__________________________________________________________________________________________________\n",
            " Layer (type)                Output Shape                 Param #   Connected to                  \n",
            "==================================================================================================\n",
            " input_1 (InputLayer)        [(None, 100)]                0         []                            \n",
            "                                                                                                  \n",
            " embedding (Embedding)       (None, 100, 300)             3000000   ['input_1[0][0]']             \n",
            "                                                                                                  \n",
            " lstm (LSTM)                 (None, 128)                  219648    ['embedding[0][0]']           \n",
            "                                                                                                  \n",
            " input_2 (InputLayer)        [(None, 19)]                 0         []                            \n",
            "                                                                                                  \n",
            " concatenate (Concatenate)   (None, 147)                  0         ['lstm[0][0]',                \n",
            "                                                                     'input_2[0][0]']             \n",
            "                                                                                                  \n",
            " dense (Dense)               (None, 64)                   9472      ['concatenate[0][0]']         \n",
            "                                                                                                  \n",
            " dropout (Dropout)           (None, 64)                   0         ['dense[0][0]']               \n",
            "                                                                                                  \n",
            " dense_1 (Dense)             (None, 2)                    130       ['dropout[0][0]']             \n",
            "                                                                                                  \n",
            "==================================================================================================\n",
            "Total params: 3229250 (12.32 MB)\n",
            "Trainable params: 229250 (895.51 KB)\n",
            "Non-trainable params: 3000000 (11.44 MB)\n",
            "__________________________________________________________________________________________________\n"
          ]
        }
      ]
    },
    {
      "cell_type": "code",
      "source": [
        "model.fit([X_text_train, num_data_train], Y_train, epochs=10, batch_size=32, validation_data=([X_text_val, num_data_val], Y_val))"
      ],
      "metadata": {
        "colab": {
          "base_uri": "https://localhost:8080/"
        },
        "id": "LF3juUmsW6jn",
        "outputId": "6d5a3c0c-8d7d-45e5-a7b6-90347939ab86"
      },
      "execution_count": null,
      "outputs": [
        {
          "output_type": "stream",
          "name": "stdout",
          "text": [
            "Epoch 1/10\n",
            "1095/1095 [==============================] - 14s 10ms/step - loss: 0.1782 - accuracy: 0.9300 - val_loss: 0.0888 - val_accuracy: 0.9696\n",
            "Epoch 2/10\n",
            "1095/1095 [==============================] - 9s 9ms/step - loss: 0.0754 - accuracy: 0.9745 - val_loss: 0.0539 - val_accuracy: 0.9815\n",
            "Epoch 3/10\n",
            "1095/1095 [==============================] - 8s 8ms/step - loss: 0.0481 - accuracy: 0.9844 - val_loss: 0.0480 - val_accuracy: 0.9847\n",
            "Epoch 4/10\n",
            "1095/1095 [==============================] - 9s 9ms/step - loss: 0.0353 - accuracy: 0.9885 - val_loss: 0.0480 - val_accuracy: 0.9848\n",
            "Epoch 5/10\n",
            "1095/1095 [==============================] - 9s 8ms/step - loss: 0.0253 - accuracy: 0.9923 - val_loss: 0.0559 - val_accuracy: 0.9839\n",
            "Epoch 6/10\n",
            "1095/1095 [==============================] - 9s 8ms/step - loss: 0.0177 - accuracy: 0.9951 - val_loss: 0.0787 - val_accuracy: 0.9796\n",
            "Epoch 7/10\n",
            "1095/1095 [==============================] - 11s 10ms/step - loss: 0.0144 - accuracy: 0.9964 - val_loss: 0.0678 - val_accuracy: 0.9842\n",
            "Epoch 8/10\n",
            "1095/1095 [==============================] - 10s 9ms/step - loss: 0.0119 - accuracy: 0.9967 - val_loss: 0.0607 - val_accuracy: 0.9874\n",
            "Epoch 9/10\n",
            "1095/1095 [==============================] - 8s 7ms/step - loss: 0.0098 - accuracy: 0.9976 - val_loss: 0.0785 - val_accuracy: 0.9865\n",
            "Epoch 10/10\n",
            "1095/1095 [==============================] - 11s 10ms/step - loss: 0.0083 - accuracy: 0.9978 - val_loss: 0.1165 - val_accuracy: 0.9809\n"
          ]
        },
        {
          "output_type": "execute_result",
          "data": {
            "text/plain": [
              "<keras.src.callbacks.History at 0x7de7e410b9d0>"
            ]
          },
          "metadata": {},
          "execution_count": 19
        }
      ]
    },
    {
      "cell_type": "code",
      "source": [
        "# Save the model to a specific path\n",
        "model.save('/content/drive/MyDrive/Colab Notebooks/RNN')"
      ],
      "metadata": {
        "id": "tsCRAxq4XBwJ"
      },
      "execution_count": null,
      "outputs": []
    },
    {
      "cell_type": "code",
      "source": [
        "from sklearn.metrics import classification_report, precision_score, recall_score, f1_score\n",
        "\n",
        "# Evaluate the model on the validation data\n",
        "loss, accuracy = model.evaluate([X_text_val, num_data_val], Y_val, verbose=0)\n",
        "\n",
        "# Predict the classes for the validation data\n",
        "Y_pred = model.predict([X_text_val, num_data_val])\n",
        "Y_pred_classes = np.argmax(Y_pred, axis=1)\n",
        "Y_true = np.argmax(Y_val, axis=1)\n",
        "\n",
        "# Calculate precision, recall, and F1 score\n",
        "precision = precision_score(Y_true, Y_pred_classes)\n",
        "recall = recall_score(Y_true, Y_pred_classes)\n",
        "f1 = f1_score(Y_true, Y_pred_classes)\n",
        "\n",
        "print(f'Accuracy: {accuracy:.2f}')\n",
        "print(f'Precision: {precision:.2f}')\n",
        "print(f'Recall: {recall:.2f}')\n",
        "print(f'F1 Score: {f1:.2f}')\n",
        "\n",
        "# Generate and print the classification report\n",
        "report = classification_report(Y_true, Y_pred_classes, target_names=['Human', 'Machine'])\n",
        "print(report)"
      ],
      "metadata": {
        "colab": {
          "base_uri": "https://localhost:8080/"
        },
        "id": "DIndf2bSzg2g",
        "outputId": "62c2bf2e-7f0c-49c2-f1cf-f01548756f97"
      },
      "execution_count": null,
      "outputs": [
        {
          "output_type": "stream",
          "name": "stdout",
          "text": [
            "274/274 [==============================] - 3s 7ms/step\n",
            "Accuracy: 0.98\n",
            "Precision: 0.99\n",
            "Recall: 0.97\n",
            "F1 Score: 0.98\n",
            "              precision    recall  f1-score   support\n",
            "\n",
            "       Human       0.97      0.99      0.98      4405\n",
            "     Machine       0.99      0.97      0.98      4351\n",
            "\n",
            "    accuracy                           0.98      8756\n",
            "   macro avg       0.98      0.98      0.98      8756\n",
            "weighted avg       0.98      0.98      0.98      8756\n",
            "\n"
          ]
        }
      ]
    },
    {
      "cell_type": "code",
      "source": [
        "from sklearn.preprocessing import StandardScaler\n",
        "from keras.models import load_model\n"
      ],
      "metadata": {
        "id": "3LHrvz2b12an"
      },
      "execution_count": null,
      "outputs": []
    },
    {
      "cell_type": "code",
      "source": [
        "# Load the test dataset\n",
        "test_df = pd.read_csv(\"/content/drive/MyDrive/Classroom/testdataset.csv\")"
      ],
      "metadata": {
        "id": "oT4u3Qh2162-"
      },
      "execution_count": null,
      "outputs": []
    },
    {
      "cell_type": "code",
      "source": [
        "# **Load or create the training dataset**\n",
        "# Assuming the training data is in a CSV file\n",
        "train_df = pd.read_csv(\"/content/drive/MyDrive/Classroom/testdataset.csv\")"
      ],
      "metadata": {
        "id": "72gteJ2V19ZS"
      },
      "execution_count": null,
      "outputs": []
    },
    {
      "cell_type": "code",
      "source": [
        "# Preprocess the test dataset\n",
        "test_df['Text'].fillna('', inplace=True)\n",
        "test_df['Text'] = test_df['Text'].astype(str)\n",
        "\n",
        "feature_columns = ['Vocab Size', 'Avg Word Length', 'Density', 'active',\n",
        "                   'passive', 'noun', 'pron', 'verb', 'adj', 'adv', 'det', 'propn',\n",
        "                   'part', 'intj', 'punct', 'Flesch Reading Ease',\n",
        "                   'Gunning Fog Index', 'Perplexity', 'Burstness']\n",
        "\n",
        "scaler = StandardScaler()"
      ],
      "metadata": {
        "id": "h9boqaOY2BTD"
      },
      "execution_count": null,
      "outputs": []
    },
    {
      "cell_type": "code",
      "source": [
        "# Fit the scaler to your training data\n",
        "scaler.fit(train_df[feature_columns])\n",
        "test_df[feature_columns] = scaler.transform(test_df[feature_columns])"
      ],
      "metadata": {
        "id": "lCyy3tyT2IBn"
      },
      "execution_count": null,
      "outputs": []
    },
    {
      "cell_type": "code",
      "source": [
        "# Tokenize the text data\n",
        "maxlen = 100  # or the length you used during training\n",
        "X_text_test = tokenizer.texts_to_sequences(test_df['Text'])\n",
        "X_text_test = pad_sequences(X_text_test, maxlen=maxlen)\n",
        "num_data_test = test_df[feature_columns].values"
      ],
      "metadata": {
        "id": "dlUDdK2T2KJz"
      },
      "execution_count": null,
      "outputs": []
    },
    {
      "cell_type": "code",
      "source": [
        "# Load the trained RNN model\n",
        "model_path ='/content/drive/MyDrive/Colab Notebooks/RNN'\n",
        "model = load_model(model_path)"
      ],
      "metadata": {
        "id": "YlfhAcmH2Nwy"
      },
      "execution_count": null,
      "outputs": []
    },
    {
      "cell_type": "code",
      "source": [
        "# Evaluate the model on the test data\n",
        "Y_test = test_df['Label'].values\n",
        "Y_test = np.eye(2)[Y_test]\n",
        "loss, accuracy = model.evaluate([X_text_test, num_data_test], Y_test, verbose=0)\n",
        "print(f'Test Accuracy: {accuracy*100:.2f}%')\n"
      ],
      "metadata": {
        "colab": {
          "base_uri": "https://localhost:8080/"
        },
        "id": "K5GchW5b2Ulz",
        "outputId": "18546b8e-591f-4e42-898b-9dd20922bc80"
      },
      "execution_count": null,
      "outputs": [
        {
          "output_type": "stream",
          "name": "stdout",
          "text": [
            "Test Accuracy: 96.03%\n"
          ]
        }
      ]
    },
    {
      "cell_type": "code",
      "source": [
        "# Predict the classes for the test data\n",
        "Y_pred = model.predict([X_text_test, num_data_test])\n",
        "Y_pred_classes = np.argmax(Y_pred, axis=1)\n",
        "Y_true = np.argmax(Y_test, axis=1)\n"
      ],
      "metadata": {
        "colab": {
          "base_uri": "https://localhost:8080/"
        },
        "id": "Z4xkXxnT2Y1h",
        "outputId": "c5ebd5a7-96a4-49ca-f67e-11de86eaa126"
      },
      "execution_count": null,
      "outputs": [
        {
          "output_type": "stream",
          "name": "stdout",
          "text": [
            "152/152 [==============================] - 1s 4ms/step\n"
          ]
        }
      ]
    },
    {
      "cell_type": "code",
      "source": [
        "# Generate and print the classification report\n",
        "print(f'Accuracy: {accuracy:.2f}')\n",
        "print(f'Precision: {precision:.2f}')\n",
        "print(f'Recall: {recall:.2f}')\n",
        "print(f'F1 Score: {f1:.2f}')\n",
        "from sklearn.metrics import classification_report\n",
        "report = classification_report(Y_true, Y_pred_classes, target_names=['Class 0', 'Class 1'])\n",
        "print(report)"
      ],
      "metadata": {
        "id": "NGz2zQ9C2iB8",
        "outputId": "e0cb6920-74f9-4dd5-c312-1d4cd98218c2",
        "colab": {
          "base_uri": "https://localhost:8080/"
        }
      },
      "execution_count": null,
      "outputs": [
        {
          "output_type": "stream",
          "name": "stdout",
          "text": [
            "Accuracy: 0.96\n",
            "Precision: 0.99\n",
            "Recall: 0.97\n",
            "F1 Score: 0.98\n",
            "              precision    recall  f1-score   support\n",
            "\n",
            "     Class 0       0.94      0.99      0.96      2432\n",
            "     Class 1       0.98      0.94      0.96      2432\n",
            "\n",
            "    accuracy                           0.96      4864\n",
            "   macro avg       0.96      0.96      0.96      4864\n",
            "weighted avg       0.96      0.96      0.96      4864\n",
            "\n"
          ]
        }
      ]
    },
    {
      "cell_type": "code",
      "source": [
        "import matplotlib.pyplot as plt\n",
        "import seaborn as sns\n",
        "from sklearn.metrics import confusion_matrix, roc_auc_score, roc_curve, classification_report\n",
        "# Generate and plot the confusion matrix\n",
        "cm = confusion_matrix(Y_true, Y_pred_classes)\n",
        "plt.figure(figsize=(10, 7))\n",
        "sns.heatmap(cm, annot=True, fmt='d', cmap='Blues', xticklabels=['Human', 'Machine'], yticklabels=['Human', 'Machine'])\n",
        "plt.xlabel('Predicted')\n",
        "plt.ylabel('True')\n",
        "plt.title('Confusion Matrix')\n",
        "plt.show()\n",
        "\n",
        "# Compute ROC curve and AUC\n",
        "fpr, tpr, _ = roc_curve(Y_true, Y_pred[:, 1])\n",
        "roc_auc = roc_auc_score(Y_true, Y_pred[:, 1])\n",
        "\n",
        "# Plot the ROC curve\n",
        "plt.figure()\n",
        "plt.plot(fpr, tpr, color='darkorange', lw=2, label=f'ROC curve (area = {roc_auc:.2f})')\n",
        "plt.plot([0, 1], [0, 1], color='navy', lw=2, linestyle='--')\n",
        "plt.xlim([0.0, 1.0])\n",
        "plt.ylim([0.0, 1.05])\n",
        "plt.xlabel('False Positive Rate')\n",
        "plt.ylabel('True Positive Rate')\n",
        "plt.title('Receiver Operating Characteristic (ROC) Curve')\n",
        "plt.legend(loc='lower right')\n",
        "plt.show()\n"
      ],
      "metadata": {
        "id": "FucKIFzN0grM"
      },
      "execution_count": null,
      "outputs": []
    }
  ]
}